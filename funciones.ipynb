{
  "nbformat": 4,
  "nbformat_minor": 0,
  "metadata": {
    "colab": {
      "name": "funciones",
      "provenance": [],
      "toc_visible": true,
      "authorship_tag": "ABX9TyPGOR2oqAeYRlAybpIMgzK6",
      "include_colab_link": true
    },
    "kernelspec": {
      "name": "python3",
      "display_name": "Python 3"
    },
    "language_info": {
      "name": "python"
    }
  },
  "cells": [
    {
      "cell_type": "markdown",
      "metadata": {
        "id": "view-in-github",
        "colab_type": "text"
      },
      "source": [
        "<a href=\"https://colab.research.google.com/github/armandovl/curso_programacion_python/blob/main/funciones.ipynb\" target=\"_parent\"><img src=\"https://colab.research.google.com/assets/colab-badge.svg\" alt=\"Open In Colab\"/></a>"
      ]
    },
    {
      "cell_type": "markdown",
      "source": [
        "<img src=\"https://devf-website.s3.amazonaws.com/static/assets/img/logo-devf-negro.png\" width=\"150\"/> \n",
        "<h3> <strong>Master en Data Science/AI</strong> </h3>\n",
        "<h4> Introducción al lenguaje python </h4>\n",
        "<h5> Programación Modular </h5>\n",
        "<strong>\n",
        "Sensei: Zelzin Márquez <br>\n",
        "Sensei: Armando Valdés\n",
        "</strong>"
      ],
      "metadata": {
        "id": "UbIVSa9aFTOi"
      }
    },
    {
      "cell_type": "markdown",
      "source": [
        "<img src=\"https://drive.google.com/uc?export=download&id=1IRCFOEWbggTCHd5GBc1BFEqwrI5qroJE\" width=\"600\"/> \n"
      ],
      "metadata": {
        "id": "rXytwNu9HDN7"
      }
    },
    {
      "cell_type": "markdown",
      "source": [
        "## 0.-Pendientes (secuencias)"
      ],
      "metadata": {
        "id": "IskONOA91LuY"
      }
    },
    {
      "cell_type": "markdown",
      "source": [
        "- Una <strong>secuencia</strong> es un tipo de objeto que almacena datos y que permite el acceso a una parte determinada de su información utilizando índices. \n",
        "- Las <strong>listas, tuplas y diccionarios</strong> son distintos tipos de secuencias.\n",
        "- Son estructuras que permiten trabajar con colecciones de datos de cualquier tipo, <strong>incluso otra secuencia.</strong>"
      ],
      "metadata": {
        "id": "lNfnQKUO-Rme"
      }
    },
    {
      "cell_type": "markdown",
      "source": [
        "<img src=\"https://drive.google.com/uc?export=download&id=1xapuFDqJDHjzwK38CVC4TYAEakt0Dz0t\" width=\"600\"/> "
      ],
      "metadata": {
        "id": "KDBGUhB67ab5"
      }
    },
    {
      "cell_type": "markdown",
      "source": [
        "*Siendo estrictos: Los arreglos son estructuras de datos estáticas, ya que hay que declarar su tamaño antes de utilizarlos, mientras las listas son estructuras de datos que pueden ir creciendo conforme se vaya requiriendo, por eso se considera que es una <strong>estructura de datos dinámica.</strong>"
      ],
      "metadata": {
        "id": "fqHd461K_Mez"
      }
    },
    {
      "cell_type": "markdown",
      "source": [
        "#### 0.1 Listas"
      ],
      "metadata": {
        "id": "m2PZwbBn6NpL"
      }
    },
    {
      "cell_type": "markdown",
      "source": [
        "Las listas son estructuras de datos que pueden almacenar cualquier otro tipo de dato, inclusive una lista, además, la cantidad de elementos de una lista se puede modificar removiendo o añadiendo elementos. Para definir una lista se utilizan los <strong>corchetes</strong>, dentro de estos se colocan todos los elementos separados por comas:"
      ],
      "metadata": {
        "id": "MDCo6rDO6Q7d"
      }
    },
    {
      "cell_type": "code",
      "source": [
        "lista_strings=[\"jorge\",\"juan\",\"tania\",\"selene\",\"raul\",\"esteban\",\"jessica\"]\n",
        "lista_flotantes=[6.6,10.0,9.5,7.3,5.6,7.0]\n",
        "lista_mezcla=[\"string\",\"string\",[True,10,True],3.0,56]"
      ],
      "metadata": {
        "id": "jkGB_J-MAW6e"
      },
      "execution_count": null,
      "outputs": []
    },
    {
      "cell_type": "code",
      "source": [
        "#acceder a un valor de la lista\n",
        "lista_flotantes[2]"
      ],
      "metadata": {
        "id": "xurzWLWIBK8d"
      },
      "execution_count": null,
      "outputs": []
    },
    {
      "cell_type": "code",
      "source": [
        "#acceder a un valor de la lista\n",
        "lista_flotantes[-2]"
      ],
      "metadata": {
        "id": "KlJYQ7wTCCkb"
      },
      "execution_count": null,
      "outputs": []
    },
    {
      "cell_type": "code",
      "source": [
        "#cambiar valor de una lista\n",
        "lista_flotantes[-2]=666"
      ],
      "metadata": {
        "id": "T7zq5qT4Eeaz"
      },
      "execution_count": null,
      "outputs": []
    },
    {
      "cell_type": "code",
      "source": [
        "lista_flotantes[-2]"
      ],
      "metadata": {
        "id": "eQB7XVpDEt3A"
      },
      "execution_count": null,
      "outputs": []
    },
    {
      "cell_type": "code",
      "source": [
        "#acceder a un rango del valores *tomar en cuenta que solo hay 0-6 valores en la lista\n",
        "lista_strings[4:8]"
      ],
      "metadata": {
        "id": "eXkZvL7pBqs6"
      },
      "execution_count": null,
      "outputs": []
    },
    {
      "cell_type": "code",
      "source": [
        "lista_mezcla[2] #acceder a una lista dentro de otra lista"
      ],
      "metadata": {
        "id": "HpXtcpA7CquT"
      },
      "execution_count": null,
      "outputs": []
    },
    {
      "cell_type": "code",
      "source": [
        "lista_mezcla[2][1] #acceder a un valor de una lista anidada"
      ],
      "metadata": {
        "id": "9gcAFxmnCwxU"
      },
      "execution_count": null,
      "outputs": []
    },
    {
      "cell_type": "code",
      "source": [
        "#agregar valores\n",
        "lista_strings.append(\"Majo\")\n",
        "lista_strings.append(\"Lizeth\")"
      ],
      "metadata": {
        "id": "bheTXFWkCdlS"
      },
      "execution_count": null,
      "outputs": []
    },
    {
      "cell_type": "code",
      "source": [
        "lista_strings"
      ],
      "metadata": {
        "id": "bgNwi3kzDomI"
      },
      "execution_count": null,
      "outputs": []
    },
    {
      "cell_type": "code",
      "source": [
        "#eliminar valores\n",
        "lista_strings.remove(\"jessica\")"
      ],
      "metadata": {
        "id": "BWoELbfDDtQr"
      },
      "execution_count": null,
      "outputs": []
    },
    {
      "cell_type": "code",
      "source": [
        "lista_strings"
      ],
      "metadata": {
        "id": "lTPTO-xVD0mN"
      },
      "execution_count": null,
      "outputs": []
    },
    {
      "cell_type": "markdown",
      "source": [
        "### 0.2 Tuplas (listas de solo lectura)"
      ],
      "metadata": {
        "id": "Zb4gSGltD726"
      }
    },
    {
      "cell_type": "markdown",
      "source": [
        "Las tuplas son secuencias de elementos similares a las listas, la diferencia principal es que las tuplas <strong>no pueden ser modificadas</strong> directamente, es decir, una tupla no dispone de los métodos como append o remove que modifican los elementos de una lista.\n",
        "<br>\n",
        "Para definir una tupla, los elementos se separan con comas y se encierran entre <strong>paréntesis</strong>."
      ],
      "metadata": {
        "id": "4fG-V_e3EK4r"
      }
    },
    {
      "cell_type": "code",
      "source": [
        "tupla_strings=(\"jorge\",\"juan\",\"tania\",\"selene\",\"raul\",\"esteban\",\"jessica\") #declarando una tupla"
      ],
      "metadata": {
        "id": "ExvYA-9aEUbZ"
      },
      "execution_count": null,
      "outputs": []
    },
    {
      "cell_type": "code",
      "source": [
        "tupla_strings[3] #acceder a los valores"
      ],
      "metadata": {
        "id": "ZaOvzE57EZBq"
      },
      "execution_count": null,
      "outputs": []
    },
    {
      "cell_type": "code",
      "source": [
        "tupla_strings[3]=\"nubia\" #no podemos cambiar valores"
      ],
      "metadata": {
        "id": "Nm5T-OtnE2yS"
      },
      "execution_count": null,
      "outputs": []
    },
    {
      "cell_type": "code",
      "source": [
        "tupla_strings.append(\"nubia\") #no podemos agregar valores"
      ],
      "metadata": {
        "id": "LbRfi20YE9gc"
      },
      "execution_count": null,
      "outputs": []
    },
    {
      "cell_type": "code",
      "source": [
        "tupla_strings.remove(\"jessica\") #no podemos eliminar valores"
      ],
      "metadata": {
        "id": "a1dxZT4mFOPh"
      },
      "execution_count": null,
      "outputs": []
    },
    {
      "cell_type": "markdown",
      "source": [
        "### 0.3 Diccionarios"
      ],
      "metadata": {
        "id": "jnS6gIFFFs3f"
      }
    },
    {
      "cell_type": "markdown",
      "source": [
        "Los diccionarios son estructuras que contienen una colección de elementos de la forma <strong>clave: valor</strong> separados por comas y encerrados entre <strong>llaves</strong>.Necesariamente las claves deben ser únicas en cada diccionario, no así los valores."
      ],
      "metadata": {
        "id": "gicwGf7dFwHd"
      }
    },
    {
      "cell_type": "code",
      "source": [
        "#Declarando un diccionario, notar el uso de llaves y la forma clave valor\n",
        "diccionario_edades={\n",
        "    \"jorge\":23,\n",
        "    \"josue\":55,\n",
        "    \"maria\":23,\n",
        "    \"alina\":18,\n",
        "    \"antuna\":[23,\"México\"]\n",
        "}"
      ],
      "metadata": {
        "id": "5OmarXJCF7_S"
      },
      "execution_count": null,
      "outputs": []
    },
    {
      "cell_type": "code",
      "source": [
        "diccionario_edades[\"jorge\"] #introduzco la clave y me devuelve el valor"
      ],
      "metadata": {
        "id": "aNFHz-hiGnY1"
      },
      "execution_count": null,
      "outputs": []
    },
    {
      "cell_type": "code",
      "source": [
        "diccionario_edades[\"josue\"] #introduzco la clave y me devuelve el valor"
      ],
      "metadata": {
        "id": "MSOLgOq6KY_F"
      },
      "execution_count": null,
      "outputs": []
    },
    {
      "cell_type": "code",
      "source": [
        "diccionario_edades[\"antuna\"] #me devuelve el valor que es una lista"
      ],
      "metadata": {
        "id": "f-4sFLrEKdkO"
      },
      "execution_count": null,
      "outputs": []
    },
    {
      "cell_type": "code",
      "source": [
        "diccionario_edades[\"antuna\"][1] #acceder al segundo valor dentro de la lista devuelta, hago uso de corchetes"
      ],
      "metadata": {
        "id": "FxpMwVVeG-x7"
      },
      "execution_count": null,
      "outputs": []
    },
    {
      "cell_type": "code",
      "source": [
        "del diccionario_edades['jorge'] #eliminar valores de un diccionario"
      ],
      "metadata": {
        "id": "fO3SXkDiHUAi"
      },
      "execution_count": null,
      "outputs": []
    },
    {
      "cell_type": "code",
      "source": [
        "diccionario_edades"
      ],
      "metadata": {
        "id": "dcDP4RbPIRY6"
      },
      "execution_count": null,
      "outputs": []
    },
    {
      "cell_type": "code",
      "source": [
        "diccionario_edades[\"armando\"] = 29 #agregar valores a un diccionario  diccionario[clave] = valor"
      ],
      "metadata": {
        "id": "hi9ybi72IFN4"
      },
      "execution_count": null,
      "outputs": []
    },
    {
      "cell_type": "code",
      "source": [
        "diccionario_edades"
      ],
      "metadata": {
        "id": "byI_knD7IM0k"
      },
      "execution_count": null,
      "outputs": []
    },
    {
      "cell_type": "markdown",
      "source": [
        "## 1.-Definición de funciones"
      ],
      "metadata": {
        "id": "OHQfmMO-tIAp"
      }
    },
    {
      "cell_type": "markdown",
      "source": [
        "La programación no solo es escribir código , probarlo y corregir errores, si no también hay que optimizar el código, la base de la optimización es la <strong>programación modular</strong> <br><br>\n",
        "\n",
        "Las <strong>funciones</strong> son una manera conveniente de dividir el código en bloques útiles, permitiendo cierto orden, haciéndolo más leíble, reproducible, escalable y nos permite ser más productivos.\n",
        "\n",
        "En Ciencias de la  Computación, en específico en la programación, usamos las funciones frecuentemente para <strong>aislar la solución</strong> de un problema dado y que pueda <strong>reutilizarse</strong> muchas veces.\n",
        "\n",
        "\n"
      ],
      "metadata": {
        "id": "b7dNK6zdxR21"
      }
    },
    {
      "cell_type": "code",
      "source": [
        "'''\n",
        "Si quisiera dar la bienvenida cada que entran al curso y despedirme cada que termina la clase, tendría que imprimir un mensaje como\n",
        "\n",
        "print(\"Mi nombre es Armando, bienvenido al curso de DS, sientete con la confianza de poder preguntar lo que desees, empezamos!!\")\n",
        "\n",
        "print(\"Gracias por tomar la clase, espera pronto la próxima, te recomiendo practicar los ejercicios , y sigue programando\")\n",
        "\n",
        "Ya que esto va a ser una operación repetitiva, puedo guardar esas acciones en un bloque de código que pueda llamar cada que lo requiera\n",
        "\n",
        "'''\n",
        "def bienvenida():\n",
        "  print(\"Mi nombre es Armando, bienvenido al curso de DS, sientete con la confianza de poder preguntar lo que desees, empezamos!!\")\n",
        "\n",
        "def despedida():\n",
        "  print(\"Gracias por tomar la clase, espera pronto la próxima, te recomiendo practicar los ejercicios , y sigue programando\")\n",
        "\n",
        "bienvenida()"
      ],
      "metadata": {
        "id": "Jzdb9-QYQdSv"
      },
      "execution_count": null,
      "outputs": []
    },
    {
      "cell_type": "markdown",
      "source": [
        "## 2.-Estructura de una función"
      ],
      "metadata": {
        "id": "vPViLPq7tQl0"
      }
    },
    {
      "cell_type": "markdown",
      "source": [
        "<img src=\"https://drive.google.com/uc?export=download&id=1iStT9OsoJedMG3h7Z_b-lnmKHUhcda-j\" >"
      ],
      "metadata": {
        "id": "GgGNHcN6-Kaq"
      }
    },
    {
      "cell_type": "code",
      "source": [
        "'''\n",
        "Ver la estructura de una función aplicada (sacar el promedio de tres valores)\n",
        "'''\n",
        "def promedio_3(n1,n2,n3): #definimos la función, colocamos el nombre, los parámetros \n",
        "  suma=n1+n2+n3 #creamos una variable auxiliar que sumará los valores\n",
        "  resultado=suma/3 #definimos un resultado que en este caso será el promedio\n",
        "\n",
        "  return resultado #usamos la palabra reservada return para devolver el resultado"
      ],
      "metadata": {
        "id": "2fAu5tnWNfUT"
      },
      "execution_count": null,
      "outputs": []
    },
    {
      "cell_type": "code",
      "source": [
        "promedio_3(13,13,13)"
      ],
      "metadata": {
        "id": "VrweM7YhPm-3"
      },
      "execution_count": null,
      "outputs": []
    },
    {
      "cell_type": "code",
      "source": [
        " #¿Qué pasa si queremos llamar una variable que se creó dentro de la función\n",
        "\n",
        "print(suma)\n",
        "\n",
        " #La esperanza de vida de una variable es sólo hasta que acabe la función, una variable, nace y muere en donde se declara\n",
        " #si quitara el return la variable resultado tampoco podría salir de la función"
      ],
      "metadata": {
        "id": "Rke7kCKiRBiA"
      },
      "execution_count": null,
      "outputs": []
    },
    {
      "cell_type": "markdown",
      "source": [
        "## 3.-Tipos de funciones"
      ],
      "metadata": {
        "id": "Q-6arPd6tc0l"
      }
    },
    {
      "cell_type": "markdown",
      "source": [
        "- 1.  Las funciones **integradas** como help() para preguntar por más información de un método, min() para obtener el valor mínimo, print() para imprimir un objeto en la terminal. Puedes encontrar todas las funciones integradas [acá.](https://docs.python.org/3/library/functions.html)\n",
        "<br>"
      ],
      "metadata": {
        "id": "QRqXZdsWKpnb"
      }
    },
    {
      "cell_type": "code",
      "source": [
        "min(1,23,45,67,8)"
      ],
      "metadata": {
        "id": "e40epYb--cXE"
      },
      "execution_count": null,
      "outputs": []
    },
    {
      "cell_type": "code",
      "source": [
        "max(45,56,78,90)"
      ],
      "metadata": {
        "id": "M4dRWHeg-lAe"
      },
      "execution_count": null,
      "outputs": []
    },
    {
      "cell_type": "code",
      "source": [
        "round(5.777777656,2)"
      ],
      "metadata": {
        "id": "ci9q6YMe-qsd"
      },
      "execution_count": null,
      "outputs": []
    },
    {
      "cell_type": "code",
      "source": [
        "len([3,4,5,6])"
      ],
      "metadata": {
        "id": "h07OCgY4av4J"
      },
      "execution_count": null,
      "outputs": []
    },
    {
      "cell_type": "code",
      "source": [
        "help(min)"
      ],
      "metadata": {
        "id": "x8pzKVQR-zij"
      },
      "execution_count": null,
      "outputs": []
    },
    {
      "cell_type": "markdown",
      "source": [
        "- 2. Las funciones **anónimas**, que también se les llama funciones lambda porque no son declaradas con la palabra reservada def.\n",
        "<br>\n",
        "Las funciones Lambda se comportan como funciones normales. Resultan útiles cuando se desea definir una función pequeña de forma concisa. Pueden contener sólo una expresión, por lo que no son las más adecuadas para funciones con instrucciones de flujo de control."
      ],
      "metadata": {
        "id": "FhoYnigQTvyN"
      }
    },
    {
      "cell_type": "code",
      "source": [
        "sacar_cuadrado=lambda x: x**2\n",
        "sacar_cuadrado(8)"
      ],
      "metadata": {
        "id": "6D5Kj424Xxy6"
      },
      "execution_count": null,
      "outputs": []
    },
    {
      "cell_type": "code",
      "source": [
        "anonima_promedio_3=lambda n1,n2,n3: (n1+n2+n3)/3\n",
        "anonima_promedio_3(13,13,13)"
      ],
      "metadata": {
        "id": "6ldi0XMNXCOn"
      },
      "execution_count": null,
      "outputs": []
    },
    {
      "cell_type": "markdown",
      "source": [
        "- 3. Las funciones **definidas por el usuario**, que son funciones que los desarrolladores definen para ayudarse a organizar su estructura en bloques. Nuestra funciones de bienvenida y despedida, son ejemplo de estas funciones\n",
        "<br>"
      ],
      "metadata": {
        "id": "DEAFGA4DTtaB"
      }
    },
    {
      "cell_type": "markdown",
      "source": [
        "## 4.-Funciones que reciben argumentos\n"
      ],
      "metadata": {
        "id": "aeI64EWrthAJ"
      }
    },
    {
      "cell_type": "markdown",
      "source": [
        "La función , para poder operar, en muchas ocasiones puede que requiera recibir valores con los cuales trabajar y finalmente conseguir un resultado."
      ],
      "metadata": {
        "id": "2IR2Twg-zbDR"
      }
    },
    {
      "cell_type": "markdown",
      "source": [
        "El término parámetro y argumento puede ser utilizado de manera intercambiable, al final del día se trata de información que se transmite a una función. <br>\n",
        "\n",
        "Siendo estrictos: Los <strong>parámetros son los valores que aceptamos al declarar la función</strong>, mientras que los <strong>argumentos</strong> son los valores que invocamos al ejecutar la función"
      ],
      "metadata": {
        "id": "J9wF7HZMLWp7"
      }
    },
    {
      "cell_type": "code",
      "source": [
        "def saludar(p_nombre,p_apellido): #los parametros son los valores que aceptamos al declarar la función\n",
        "  print(f\" \\n \\n Hola {p_nombre} {p_apellido} gusto en saludarte\")\n",
        "\n",
        "a_nombre_recibido=str(input(\"escribe tu nombre\"))\n",
        "a_apellido_recibido=str(input(\"escribe tu primer apellido\"))\n",
        "\n",
        "saludar(a_nombre_recibido,a_apellido_recibido) #los argumentos son los valores que invocamos al ejecutar la función"
      ],
      "metadata": {
        "id": "C1HCFvlp0BvJ"
      },
      "execution_count": null,
      "outputs": []
    },
    {
      "cell_type": "markdown",
      "source": [
        "Por defecto, una función debe ser llamada con el número correcto y exacto de argumentos. Eso significa que si una función espera 2 argumentos, tienes que llamar la función con esos 2 argumentos, no más ni menos.\n"
      ],
      "metadata": {
        "id": "FOBgcbbDLjd3"
      }
    },
    {
      "cell_type": "code",
      "source": [
        "#los parametros son los valores que aceptamos al declarar la función\n",
        "def saludar(p_nombre,p_apellido):\n",
        "  print(f\" \\n \\n Hola {p_nombre} {p_apellido} gusto en saludarte\")\n",
        "\n",
        "a_nombre_recibido=str(input(\"escribe tu nombre\"))\n",
        "a_apellido_recibido=str(input(\"escribe tu primer apellido\"))\n",
        "\n",
        "saludar(a_nombre_recibido,a_apellido_recibido) \n",
        "#los argumentos son los valores que invocamos al ejecutar la función"
      ],
      "metadata": {
        "id": "WM96udVbRuLm"
      },
      "execution_count": null,
      "outputs": []
    },
    {
      "cell_type": "markdown",
      "source": [
        "#### 4.1 Funciones, pueden llamar a otras funciones"
      ],
      "metadata": {
        "id": "SvRN0yj0aDip"
      }
    },
    {
      "cell_type": "markdown",
      "source": [
        "Vamos a hacer un ejemplo de una función que invoque a otras funciones"
      ],
      "metadata": {
        "id": "V-qZfXpkTH_s"
      }
    },
    {
      "cell_type": "code",
      "source": [
        "def saludar(nombre,hora):\n",
        "  print(f\" \\n Hola {nombre} gusto en saludarte\")\n",
        "\n",
        "  if hora==6.5:\n",
        "    bienvenida()\n",
        "\n",
        "  elif hora>6.5 and hora<9.5:\n",
        "    print(\"Estamos en clase\")\n",
        "\n",
        "  else:\n",
        "    despedida()\n",
        "\n",
        "nombre_recibido=str(input(\"escribe tu nombre\"))\n",
        "hora_entrada=float(input(\"¿qué hora es?\"))\n",
        "\n",
        "saludar(nombre_recibido,hora_entrada)\n",
        "  "
      ],
      "metadata": {
        "id": "7fDoaPO0fZWe"
      },
      "execution_count": null,
      "outputs": []
    },
    {
      "cell_type": "markdown",
      "source": [
        "### 4.2 Argumentos arbitrarios (*args)"
      ],
      "metadata": {
        "id": "2uf3N3K5AR6u"
      }
    },
    {
      "cell_type": "markdown",
      "source": [
        "Si desconocemos cuántos argumentos serán pasados a tu función, agrega un asterisco (*) antes del nombre del parámetro en la definición de la función.\n",
        "\n",
        "De esta manera la función podrá recibir una tupla de argumentos, y se puede acceder a los elementos ordenadamente:\n"
      ],
      "metadata": {
        "id": "HQVeX4EwLwnZ"
      }
    },
    {
      "cell_type": "code",
      "source": [
        "'''\n",
        "Vamos a crear una función que cuente la cantidad de argumentos que le han sidos pasados\n",
        "'''\n",
        "\n",
        "def contar_todos(*arg):\n",
        "  print(len(arg)) #hacemos uso de una función integrada len()"
      ],
      "metadata": {
        "id": "zVJFPsmLAUvV"
      },
      "execution_count": null,
      "outputs": []
    },
    {
      "cell_type": "code",
      "source": [
        "contar_todos(23,45,67,89,56,10)"
      ],
      "metadata": {
        "id": "hQ6olSBpA_6I"
      },
      "execution_count": null,
      "outputs": []
    },
    {
      "cell_type": "code",
      "source": [
        "'''\n",
        "Vamos a crear una función que sume todos argumentos que le han sidos pasados\n",
        "'''\n",
        "\n",
        "def sumar_todos(*valores):\n",
        "  print(sum(valores))  #hacemos uso de una función integrada sum()"
      ],
      "metadata": {
        "id": "AExmhmmnltLt"
      },
      "execution_count": null,
      "outputs": []
    },
    {
      "cell_type": "code",
      "source": [
        "sumar_todos(10,10,20)"
      ],
      "metadata": {
        "id": "kp0NY_36ltgG"
      },
      "execution_count": null,
      "outputs": []
    },
    {
      "cell_type": "code",
      "source": [
        "'''\n",
        "Vamos a crear una función que obtenga el promedio de todos argumentos que le han sidos pasados\n",
        "'''\n",
        "\n",
        "def promedio_todos(*valores):\n",
        "  numero_valores=len(valores)\n",
        "  suma_valores=sum(valores)\n",
        "  print(suma_valores/numero_valores)"
      ],
      "metadata": {
        "id": "TYDPZN9zm4IC"
      },
      "execution_count": null,
      "outputs": []
    },
    {
      "cell_type": "code",
      "source": [
        "promedio_todos(23,45,67,8)"
      ],
      "metadata": {
        "id": "-N1rfpbDmzUT"
      },
      "execution_count": null,
      "outputs": []
    },
    {
      "cell_type": "markdown",
      "source": [
        "### 4.3 Valor de parámetros por defecto"
      ],
      "metadata": {
        "id": "h6xUg3RtMGWt"
      }
    },
    {
      "cell_type": "markdown",
      "source": [
        "En algunos lenguajes, como Ruby o Python, podemos asignar un valor por defecto en caso de no recibir uno de los parámetros"
      ],
      "metadata": {
        "id": "8tHNytZI0Cg5"
      }
    },
    {
      "cell_type": "code",
      "source": [
        "'''\n",
        "Vamos a estructurar una función que vaya agregando a una lista de amigos: nombre, celular , país\n",
        "'''\n",
        "lista_amigos=[]\n",
        "\n",
        "def agregar_amigos(nombre,cel,pais=\"México\"):\n",
        "  lista_amigos.append([nombre,cel,pais])\n",
        "  print(lista_amigos)\n"
      ],
      "metadata": {
        "id": "AiaAFfYAwNQl"
      },
      "execution_count": null,
      "outputs": []
    },
    {
      "cell_type": "code",
      "source": [
        "agregar_amigos(\"juan\",5566778899)"
      ],
      "metadata": {
        "id": "v3cQVkV6xPpR"
      },
      "execution_count": null,
      "outputs": []
    },
    {
      "cell_type": "code",
      "source": [
        "agregar_amigos(\"jose\",5566778899)"
      ],
      "metadata": {
        "id": "3IHmS9Pb0HhQ"
      },
      "execution_count": null,
      "outputs": []
    },
    {
      "cell_type": "code",
      "source": [
        "agregar_amigos(\"alina\",3454567654,\"Colombia\")"
      ],
      "metadata": {
        "id": "PJKlXfTv0K1o"
      },
      "execution_count": null,
      "outputs": []
    },
    {
      "cell_type": "markdown",
      "source": [
        "### 4.4 Lista como argumento"
      ],
      "metadata": {
        "id": "KvoxMA8zMdor"
      }
    },
    {
      "cell_type": "markdown",
      "source": [
        "\n",
        "Puedes mandar cualquier tipo de dato como argumento a una función(como una cadena de caracteres,una secuencia) y será tratado como el mismo tipo de dato dentro de la función.\n",
        "\n",
        "Por ejemplo, si envías una Lista como un argumento, seguirá siendo una Lista cuando llegue a la función:"
      ],
      "metadata": {
        "id": "I5APaZeGMYjx"
      }
    },
    {
      "cell_type": "code",
      "source": [
        "'''\n",
        "Por ejemplo, la función integrada sum, puede recibir una lista o una tupla con una secuencia de datos\n",
        "'''\n",
        "lista_sumar=[1,2,3,4]\n",
        "tupla_sumar=(1,2,3,4)\n",
        "\n",
        "sum(tupla_sumar) #recibe una tupla, lista"
      ],
      "metadata": {
        "id": "W0hubuRRnuat"
      },
      "execution_count": null,
      "outputs": []
    },
    {
      "cell_type": "code",
      "source": [
        "'''\n",
        "ejemplo: vamos a estructurar una función reciba una lista de números\n",
        "haga una suma y muestre el valor que se va sumando cada vez\n",
        "'''\n",
        "\n",
        "def suma_acumulativa(lista): #1\n",
        "  sumando=0 #2\n",
        "  for i in lista: #1\n",
        "    print(\"valor a sumar\",i) #1\n",
        "    sumando += i #2\n",
        "    print(\"resultado=\",sumando)#2\n"
      ],
      "metadata": {
        "id": "0Ly2-XftojD0"
      },
      "execution_count": null,
      "outputs": []
    },
    {
      "cell_type": "code",
      "source": [
        "def suma_acumulativa(lista): #1\n",
        "  sumando=0 #2\n",
        "  for i in lista: #1\n",
        "    sumando += i #2\n",
        "    print(\"valor a sumar #3\",i) #1\n",
        "    print(\"resultado #3=\",sumando) #2\n"
      ],
      "metadata": {
        "id": "fj6eu9YaWQa-"
      },
      "execution_count": null,
      "outputs": []
    },
    {
      "cell_type": "code",
      "source": [
        "suma_acumulativa([2,3,4,5,6,7,8,9,10])"
      ],
      "metadata": {
        "id": "VhIkMgiapE0z"
      },
      "execution_count": null,
      "outputs": []
    },
    {
      "cell_type": "markdown",
      "source": [
        "## 5.-Funciones que retornan un valor"
      ],
      "metadata": {
        "id": "FEK7f9xstxtY"
      }
    },
    {
      "cell_type": "markdown",
      "source": [
        "Los datos que manejes dentro de una función solamente se puede utilizar dentro de la función, una variable solamente vive en el lugar donde se le declara, una variable vive donde nace.\n",
        "<br>\n",
        "Entonces, ¿Cómo podria acceder al valor de una variable que se crea dentro de una función?"
      ],
      "metadata": {
        "id": "DHR0zvT81qSF"
      }
    },
    {
      "cell_type": "markdown",
      "source": [
        "La instrucción <strong>return</strong> indica el final de la función pero también el valor que devuelve la función. "
      ],
      "metadata": {
        "id": "u_ob0atwcs-K"
      }
    },
    {
      "cell_type": "markdown",
      "source": [
        "Ejemplo: \n",
        "Estructurar una función que reciba:\n",
        "kilómetros recorridos en un viaje e imprima la cantidad de litros que requirió, teniendo en cuenta un redimiento promedio de\n",
        "18.8 kilómetros por litro de gasolina"
      ],
      "metadata": {
        "id": "QeIltAxenhLd"
      }
    },
    {
      "cell_type": "code",
      "source": [
        "def litros_ocupados(kilometros_recorridos):\n",
        "  rendimiento=18.8\n",
        "  resultado=kilometros_recorridos/18.8\n",
        "\n",
        "  return resultado"
      ],
      "metadata": {
        "id": "jaTkyhMycfgx"
      },
      "execution_count": null,
      "outputs": []
    },
    {
      "cell_type": "code",
      "source": [
        "litros=litros_ocupados(125)\n",
        "print(litros)"
      ],
      "metadata": {
        "id": "sFz8TOF_ltMB"
      },
      "execution_count": null,
      "outputs": []
    },
    {
      "cell_type": "markdown",
      "source": [
        "Suponiendo que el precio de la gasolina es 27 pesos por litro, ¿Cuánto dinero se requiere para el viaje?"
      ],
      "metadata": {
        "id": "seVReicln0ta"
      }
    },
    {
      "cell_type": "code",
      "source": [
        "'''\n",
        "A diferencia de usar print, cuando retorno una variable, tengo la posibilidad de reutilizar esa variable,\n",
        "que de otra manera \"moriría\" al terminar la función\n",
        "'''\n",
        "litros*27"
      ],
      "metadata": {
        "id": "w-pHQ4dOmAUn"
      },
      "execution_count": null,
      "outputs": []
    },
    {
      "cell_type": "markdown",
      "source": [
        "### 5.1 Retornar multiples valores"
      ],
      "metadata": {
        "id": "cObnW4T_bYt5"
      }
    },
    {
      "cell_type": "markdown",
      "source": [
        "Una función también puede retornar varios valores, puede ser en forma de lista o en forma de tupla"
      ],
      "metadata": {
        "id": "DUUzNkuC0x5P"
      }
    },
    {
      "cell_type": "markdown",
      "source": [
        "Ejemplo: Vamos a estructurar una función que reciba dos números y que los utilice para realizar diferentes operaciones: <br>\n",
        "sumarlos <br>\n",
        "restarlos <br>\n",
        "multiplicarlos <br>\n",
        "y dividirlos <br>"
      ],
      "metadata": {
        "id": "wawwVKWn0kH5"
      }
    },
    {
      "cell_type": "code",
      "source": [
        "def operaciones(n1,n2):\n",
        "  resultado_suma=n1+n2\n",
        "  resultado_resta=n1-n2\n",
        "  resultado_multiplicacion=n1*n2\n",
        "  resultado_division=n1/n2\n",
        "\n",
        "  return [resultado_suma,resultado_resta] #se pueden retornar multiples valores en forma lista y forma de tupla"
      ],
      "metadata": {
        "id": "P5grmSz81pb7"
      },
      "execution_count": null,
      "outputs": []
    },
    {
      "cell_type": "code",
      "source": [
        "valores=operaciones(55,76)\n",
        "print(valores[0])"
      ],
      "metadata": {
        "id": "E9hCmYn6bFYi"
      },
      "execution_count": null,
      "outputs": []
    },
    {
      "cell_type": "markdown",
      "source": [
        "## 6.- Ejercicios"
      ],
      "metadata": {
        "id": "e0JefB6B01vo"
      }
    },
    {
      "cell_type": "markdown",
      "source": [
        "1.- Estructurar una función que reciba una lista y que imprima en pantalla , solo valores impares"
      ],
      "metadata": {
        "id": "O8hDr8ZWsSpk"
      }
    },
    {
      "cell_type": "code",
      "source": [
        "def imprimir_impares(lista):\n",
        "  sumando=0\n",
        "  for i in lista:\n",
        "    if i%2!=0:\n",
        "      print(i)"
      ],
      "metadata": {
        "id": "92NcW7bWrvh9"
      },
      "execution_count": null,
      "outputs": []
    },
    {
      "cell_type": "markdown",
      "source": [
        "2.-Un grupo de amigos tiene una bolsa de caramelos, han decidido dividirse los caramelos en partes iguales y los caramelos sobrantes regalarlos <br>\n",
        "\n",
        "Estructurar una función que reciba la cantidad de caramelos en la bolsa y el número de amigos , dicha función tiene que regresar, la cantidad de caramelos que le toca a cada uno y la cantidad de caramelos que van a regalar"
      ],
      "metadata": {
        "id": "-j-OOAyznQz_"
      }
    },
    {
      "cell_type": "code",
      "source": [
        "def caramelos(caramelos_bolsa,numero_amigos):\n",
        "  cantidad_cada_uno=caramelos_bolsa//numero_amigos\n",
        "  caramelos_regalar=caramelos_bolsa%numero_amigos\n",
        "\n",
        "  return [cantidad_cada_uno,caramelos_regalar]"
      ],
      "metadata": {
        "id": "ZKUEb9m1p7yB"
      },
      "execution_count": null,
      "outputs": []
    },
    {
      "cell_type": "code",
      "source": [
        "a=caramelos(25,5)\n",
        "b=a[0]\n",
        "c=a[1]\n",
        "\n",
        "print(\"caramelos a cada uno\", b)\n",
        "print(\"caramelos a regalar\",c)"
      ],
      "metadata": {
        "id": "5riwWYtbqdRm"
      },
      "execution_count": null,
      "outputs": []
    },
    {
      "cell_type": "markdown",
      "source": [
        "3.- Diseñar una función que reciba un lista de números y que imprima la suma de sólo valores impares dentro de la lista"
      ],
      "metadata": {
        "id": "uOYSqdfoagzh"
      }
    },
    {
      "cell_type": "code",
      "source": [
        "def sumar_impares(lista):\n",
        "  sumando=0\n",
        "  for i in lista:\n",
        "    if i%2!=0:\n",
        "      sumando += i\n",
        "      print(sumando)"
      ],
      "metadata": {
        "id": "FsruadMQtvi_"
      },
      "execution_count": null,
      "outputs": []
    },
    {
      "cell_type": "code",
      "source": [
        "sumar_impares([1,2,3,4])"
      ],
      "metadata": {
        "id": "oNcuI06tsvAb"
      },
      "execution_count": null,
      "outputs": []
    },
    {
      "cell_type": "markdown",
      "source": [
        "4.- Desarrollar una función que reciba una serie de números , que elimine el número mayor y el número menor y que obtenga el promedio de los números restantes"
      ],
      "metadata": {
        "id": "HVm8P1qwXw9q"
      }
    },
    {
      "cell_type": "code",
      "source": [
        "def media_recortada(*args):\n",
        "  lista=(list(args))\n",
        "  minimo=min(args)\n",
        "  maximo=max(args)\n",
        "  tamanio=len(args)\n",
        "\n",
        "  lista.remove(minimo)\n",
        "  lista.remove(maximo)\n",
        "\n",
        "  print(sum(lista)/tamanio)\n"
      ],
      "metadata": {
        "id": "AxDsrx7rXz0B"
      },
      "execution_count": null,
      "outputs": []
    },
    {
      "cell_type": "code",
      "source": [
        "media_recortada(2,3,4,5)"
      ],
      "metadata": {
        "id": "5eNblgE8Y98A"
      },
      "execution_count": null,
      "outputs": []
    },
    {
      "cell_type": "markdown",
      "source": [
        "5.-Estructura una función que reciba kilometros recorridos, y modelo de auto(ignis,aveo, vitara), y que imprima  la cantidad de dinero que se requiere para hacer un viaje, tomando en cuenta que el precio de la gasolina es de 27 pesos y los rendimientos son:\n",
        "\n",
        "- ingnis 20 km/l\n",
        "- aveo 16 km/l\n",
        "- vitara 15.3 km/l"
      ],
      "metadata": {
        "id": "WgRSTwEzrdaZ"
      }
    },
    {
      "cell_type": "code",
      "source": [
        "def sacar_presupuesto(kilometros,modelo):\n",
        "  if modelo==\"aveo\":\n",
        "    rendimiento=16\n",
        "  elif modelo==\"ignis\":\n",
        "    rendimiento=20\n",
        "  else:\n",
        "    rendimiento=15.3\n",
        "\n",
        "  resultado=(kilometros/rendimiento)*27\n",
        "  print(\"el presupuesto necesario es de \",resultado, \" pesos\")"
      ],
      "metadata": {
        "id": "Wla-URb7sigR"
      },
      "execution_count": null,
      "outputs": []
    },
    {
      "cell_type": "code",
      "source": [
        "sacar_presupuesto(1234,\"aveo\")"
      ],
      "metadata": {
        "id": "O_To2pQztfnu"
      },
      "execution_count": null,
      "outputs": []
    },
    {
      "cell_type": "markdown",
      "source": [
        "## 7.- Recursos y meta recursos"
      ],
      "metadata": {
        "id": "RQrpc_OEIDw-"
      }
    },
    {
      "cell_type": "markdown",
      "source": [
        "[**Python Crash Course 2da edición**](https://drive.google.com/file/d/1RPfWSa5iBm0ZJRjSNWvVXL1ggnqY5rLK/view)"
      ],
      "metadata": {
        "id": "anImSsjaIKjf"
      }
    },
    {
      "cell_type": "markdown",
      "source": [
        "[**Python Tutorial for Absolute Beginners**](https://www.youtube.com/watch?v=u-OmVr_fT4s)"
      ],
      "metadata": {
        "id": "RVPWfi22I_rM"
      }
    },
    {
      "cell_type": "markdown",
      "source": [
        "[**Learn X in Y minutes where X= Python**](https://learnxinyminutes.com/docs/python/)"
      ],
      "metadata": {
        "id": "Vnzoja3mIg34"
      }
    },
    {
      "cell_type": "markdown",
      "source": [
        "[**9 ejercicios de funciones en Python**](https://pynative.com/python-functions-exercise-with-solutions/)"
      ],
      "metadata": {
        "id": "stR0ijI92xgV"
      }
    },
    {
      "cell_type": "markdown",
      "source": [
        "[**21 ejercicios de funciones en Python**](https://www.w3resource.com/python-exercises/python-functions-exercises.php)"
      ],
      "metadata": {
        "id": "1MZg-kBn3I8a"
      }
    }
  ]
}